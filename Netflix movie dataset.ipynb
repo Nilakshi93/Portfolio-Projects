{
 "cells": [
  {
   "cell_type": "code",
   "execution_count": 2,
   "id": "bf5f2f61",
   "metadata": {},
   "outputs": [],
   "source": [
    "import pandas as pd"
   ]
  },
  {
   "cell_type": "code",
   "execution_count": 8,
   "id": "78f11dfc",
   "metadata": {},
   "outputs": [],
   "source": [
    "netflix=pd.read_csv(r\"C:\\Nilakshi\\Portfolio\\netflix_data.csv\")"
   ]
  },
  {
   "cell_type": "code",
   "execution_count": 10,
   "id": "774d758d",
   "metadata": {},
   "outputs": [
    {
     "data": {
      "text/html": [
       "<div>\n",
       "<style scoped>\n",
       "    .dataframe tbody tr th:only-of-type {\n",
       "        vertical-align: middle;\n",
       "    }\n",
       "\n",
       "    .dataframe tbody tr th {\n",
       "        vertical-align: top;\n",
       "    }\n",
       "\n",
       "    .dataframe thead th {\n",
       "        text-align: right;\n",
       "    }\n",
       "</style>\n",
       "<table border=\"1\" class=\"dataframe\">\n",
       "  <thead>\n",
       "    <tr style=\"text-align: right;\">\n",
       "      <th></th>\n",
       "      <th>show_id</th>\n",
       "      <th>type</th>\n",
       "      <th>title</th>\n",
       "      <th>director</th>\n",
       "      <th>cast</th>\n",
       "      <th>country</th>\n",
       "      <th>date_added</th>\n",
       "      <th>release_year</th>\n",
       "      <th>duration</th>\n",
       "      <th>description</th>\n",
       "      <th>genre</th>\n",
       "    </tr>\n",
       "  </thead>\n",
       "  <tbody>\n",
       "    <tr>\n",
       "      <th>0</th>\n",
       "      <td>s1</td>\n",
       "      <td>TV Show</td>\n",
       "      <td>3%</td>\n",
       "      <td>NaN</td>\n",
       "      <td>João Miguel, Bianca Comparato, Michel Gomes, R...</td>\n",
       "      <td>Brazil</td>\n",
       "      <td>August 14, 2020</td>\n",
       "      <td>2020</td>\n",
       "      <td>4</td>\n",
       "      <td>In a future where the elite inhabit an island ...</td>\n",
       "      <td>International TV</td>\n",
       "    </tr>\n",
       "    <tr>\n",
       "      <th>1</th>\n",
       "      <td>s2</td>\n",
       "      <td>Movie</td>\n",
       "      <td>7:19</td>\n",
       "      <td>Jorge Michel Grau</td>\n",
       "      <td>Demián Bichir, Héctor Bonilla, Oscar Serrano, ...</td>\n",
       "      <td>Mexico</td>\n",
       "      <td>December 23, 2016</td>\n",
       "      <td>2016</td>\n",
       "      <td>93</td>\n",
       "      <td>After a devastating earthquake hits Mexico Cit...</td>\n",
       "      <td>Dramas</td>\n",
       "    </tr>\n",
       "    <tr>\n",
       "      <th>2</th>\n",
       "      <td>s3</td>\n",
       "      <td>Movie</td>\n",
       "      <td>23:59</td>\n",
       "      <td>Gilbert Chan</td>\n",
       "      <td>Tedd Chan, Stella Chung, Henley Hii, Lawrence ...</td>\n",
       "      <td>Singapore</td>\n",
       "      <td>December 20, 2018</td>\n",
       "      <td>2011</td>\n",
       "      <td>78</td>\n",
       "      <td>When an army recruit is found dead, his fellow...</td>\n",
       "      <td>Horror Movies</td>\n",
       "    </tr>\n",
       "    <tr>\n",
       "      <th>3</th>\n",
       "      <td>s4</td>\n",
       "      <td>Movie</td>\n",
       "      <td>9</td>\n",
       "      <td>Shane Acker</td>\n",
       "      <td>Elijah Wood, John C. Reilly, Jennifer Connelly...</td>\n",
       "      <td>United States</td>\n",
       "      <td>November 16, 2017</td>\n",
       "      <td>2009</td>\n",
       "      <td>80</td>\n",
       "      <td>In a postapocalyptic world, rag-doll robots hi...</td>\n",
       "      <td>Action</td>\n",
       "    </tr>\n",
       "    <tr>\n",
       "      <th>4</th>\n",
       "      <td>s5</td>\n",
       "      <td>Movie</td>\n",
       "      <td>21</td>\n",
       "      <td>Robert Luketic</td>\n",
       "      <td>Jim Sturgess, Kevin Spacey, Kate Bosworth, Aar...</td>\n",
       "      <td>United States</td>\n",
       "      <td>January 1, 2020</td>\n",
       "      <td>2008</td>\n",
       "      <td>123</td>\n",
       "      <td>A brilliant group of students become card-coun...</td>\n",
       "      <td>Dramas</td>\n",
       "    </tr>\n",
       "  </tbody>\n",
       "</table>\n",
       "</div>"
      ],
      "text/plain": [
       "  show_id     type  title           director  \\\n",
       "0      s1  TV Show     3%                NaN   \n",
       "1      s2    Movie   7:19  Jorge Michel Grau   \n",
       "2      s3    Movie  23:59       Gilbert Chan   \n",
       "3      s4    Movie      9        Shane Acker   \n",
       "4      s5    Movie     21     Robert Luketic   \n",
       "\n",
       "                                                cast        country  \\\n",
       "0  João Miguel, Bianca Comparato, Michel Gomes, R...         Brazil   \n",
       "1  Demián Bichir, Héctor Bonilla, Oscar Serrano, ...         Mexico   \n",
       "2  Tedd Chan, Stella Chung, Henley Hii, Lawrence ...      Singapore   \n",
       "3  Elijah Wood, John C. Reilly, Jennifer Connelly...  United States   \n",
       "4  Jim Sturgess, Kevin Spacey, Kate Bosworth, Aar...  United States   \n",
       "\n",
       "          date_added  release_year  duration  \\\n",
       "0    August 14, 2020          2020         4   \n",
       "1  December 23, 2016          2016        93   \n",
       "2  December 20, 2018          2011        78   \n",
       "3  November 16, 2017          2009        80   \n",
       "4    January 1, 2020          2008       123   \n",
       "\n",
       "                                         description             genre  \n",
       "0  In a future where the elite inhabit an island ...  International TV  \n",
       "1  After a devastating earthquake hits Mexico Cit...            Dramas  \n",
       "2  When an army recruit is found dead, his fellow...     Horror Movies  \n",
       "3  In a postapocalyptic world, rag-doll robots hi...            Action  \n",
       "4  A brilliant group of students become card-coun...            Dramas  "
      ]
     },
     "execution_count": 10,
     "metadata": {},
     "output_type": "execute_result"
    }
   ],
   "source": [
    "#Looking at first 5 rows of data\n",
    "netflix.head()"
   ]
  },
  {
   "cell_type": "code",
   "execution_count": 11,
   "id": "b836f643",
   "metadata": {},
   "outputs": [
    {
     "data": {
      "text/plain": [
       "(7787, 11)"
      ]
     },
     "execution_count": 11,
     "metadata": {},
     "output_type": "execute_result"
    }
   ],
   "source": [
    "#Number of rows and columns\n",
    "netflix.shape"
   ]
  },
  {
   "cell_type": "code",
   "execution_count": 12,
   "id": "8f382bc6",
   "metadata": {},
   "outputs": [
    {
     "data": {
      "text/plain": [
       "85657"
      ]
     },
     "execution_count": 12,
     "metadata": {},
     "output_type": "execute_result"
    }
   ],
   "source": [
    "#Total number of elements in the DF\n",
    "netflix.size"
   ]
  },
  {
   "cell_type": "code",
   "execution_count": 13,
   "id": "2eca4f50",
   "metadata": {},
   "outputs": [
    {
     "data": {
      "text/plain": [
       "Index(['show_id', 'type', 'title', 'director', 'cast', 'country', 'date_added',\n",
       "       'release_year', 'duration', 'description', 'genre'],\n",
       "      dtype='object')"
      ]
     },
     "execution_count": 13,
     "metadata": {},
     "output_type": "execute_result"
    }
   ],
   "source": [
    "netflix.columns"
   ]
  },
  {
   "cell_type": "code",
   "execution_count": 14,
   "id": "540f03a5",
   "metadata": {},
   "outputs": [
    {
     "name": "stdout",
     "output_type": "stream",
     "text": [
      "<class 'pandas.core.frame.DataFrame'>\n",
      "RangeIndex: 7787 entries, 0 to 7786\n",
      "Data columns (total 11 columns):\n",
      " #   Column        Non-Null Count  Dtype \n",
      "---  ------        --------------  ----- \n",
      " 0   show_id       7787 non-null   object\n",
      " 1   type          7787 non-null   object\n",
      " 2   title         7787 non-null   object\n",
      " 3   director      5398 non-null   object\n",
      " 4   cast          7069 non-null   object\n",
      " 5   country       7280 non-null   object\n",
      " 6   date_added    7777 non-null   object\n",
      " 7   release_year  7787 non-null   int64 \n",
      " 8   duration      7787 non-null   int64 \n",
      " 9   description   7787 non-null   object\n",
      " 10  genre         7787 non-null   object\n",
      "dtypes: int64(2), object(9)\n",
      "memory usage: 669.3+ KB\n"
     ]
    }
   ],
   "source": [
    "#By looking at this we canidentify data types of different columns, rows with null\n",
    "netflix.info()"
   ]
  },
  {
   "cell_type": "code",
   "execution_count": 15,
   "id": "429c1fd5",
   "metadata": {},
   "outputs": [
    {
     "data": {
      "text/plain": [
       "0"
      ]
     },
     "execution_count": 15,
     "metadata": {},
     "output_type": "execute_result"
    }
   ],
   "source": [
    "#Total number of duplicated rows\n",
    "netflix.duplicated().sum()"
   ]
  },
  {
   "cell_type": "markdown",
   "id": "977f9521",
   "metadata": {},
   "source": [
    "This dataset has 7787 rows and it has few columns with null values. No duplicated data."
   ]
  },
  {
   "cell_type": "code",
   "execution_count": 16,
   "id": "500713c8",
   "metadata": {},
   "outputs": [
    {
     "data": {
      "text/plain": [
       "show_id            0\n",
       "type               0\n",
       "title              0\n",
       "director        2389\n",
       "cast             718\n",
       "country          507\n",
       "date_added        10\n",
       "release_year       0\n",
       "duration           0\n",
       "description        0\n",
       "genre              0\n",
       "dtype: int64"
      ]
     },
     "execution_count": 16,
     "metadata": {},
     "output_type": "execute_result"
    }
   ],
   "source": [
    "#Number of missing values in each column\n",
    "netflix.isna().sum()"
   ]
  },
  {
   "cell_type": "markdown",
   "id": "9c588a03",
   "metadata": {},
   "source": [
    "Columns director, cast and country has the highest number of missing values."
   ]
  },
  {
   "cell_type": "code",
   "execution_count": 17,
   "id": "7ff70af9",
   "metadata": {},
   "outputs": [
    {
     "data": {
      "text/plain": [
       "array([dtype('O'), dtype('int64')], dtype=object)"
      ]
     },
     "execution_count": 17,
     "metadata": {},
     "output_type": "execute_result"
    }
   ],
   "source": [
    "#Unique data types in the DF\n",
    "netflix.dtypes.unique()"
   ]
  },
  {
   "cell_type": "code",
   "execution_count": 18,
   "id": "482b635d",
   "metadata": {},
   "outputs": [],
   "source": [
    "#Dealng with NA values\n",
    "#filling missing values in director, cast and country columns with unknown\n",
    "\n",
    "netflix[\"director\"].fillna(\"unknown\",inplace=True)\n",
    "netflix[\"cast\"].fillna(\"unknown\",inplace=True)\n",
    "netflix[\"country\"].fillna(\"unknown\",inplace=True)"
   ]
  },
  {
   "cell_type": "code",
   "execution_count": 19,
   "id": "a7fca8a5",
   "metadata": {},
   "outputs": [],
   "source": [
    "#Dropping rows with NA in dates column as there's only 10 rows\n",
    "netflix.dropna(subset=[\"date_added\"],inplace=True)"
   ]
  },
  {
   "cell_type": "code",
   "execution_count": 20,
   "id": "03385a55",
   "metadata": {},
   "outputs": [
    {
     "data": {
      "text/plain": [
       "show_id         0\n",
       "type            0\n",
       "title           0\n",
       "director        0\n",
       "cast            0\n",
       "country         0\n",
       "date_added      0\n",
       "release_year    0\n",
       "duration        0\n",
       "description     0\n",
       "genre           0\n",
       "dtype: int64"
      ]
     },
     "execution_count": 20,
     "metadata": {},
     "output_type": "execute_result"
    }
   ],
   "source": [
    "netflix.isna().sum()"
   ]
  },
  {
   "cell_type": "code",
   "execution_count": 22,
   "id": "ab0738c0",
   "metadata": {},
   "outputs": [],
   "source": [
    "#Convert date_added column to a date field\n",
    "netflix[\"date_added\"]=pd.to_datetime(netflix[\"date_added\"],errors=\"coerce\")"
   ]
  },
  {
   "cell_type": "markdown",
   "id": "974b48c6",
   "metadata": {},
   "source": [
    "We have dealt with null values and data is ready for analysis. \n",
    "Before that let's look at any outliers in the data set."
   ]
  },
  {
   "cell_type": "code",
   "execution_count": 23,
   "id": "c366cce3",
   "metadata": {},
   "outputs": [
    {
     "name": "stdout",
     "output_type": "stream",
     "text": [
      "       release_year     duration\n",
      "count   7777.000000  7777.000000\n",
      "mean    2013.935965    69.204706\n",
      "std        8.760694    50.931983\n",
      "min     1925.000000     1.000000\n",
      "25%     2013.000000     2.000000\n",
      "50%     2017.000000    88.000000\n",
      "75%     2018.000000   106.000000\n",
      "max     2021.000000   312.000000\n"
     ]
    }
   ],
   "source": [
    "print(netflix.describe())"
   ]
  },
  {
   "cell_type": "markdown",
   "id": "07a3f674",
   "metadata": {},
   "source": [
    "# Handling outliers"
   ]
  },
  {
   "cell_type": "code",
   "execution_count": 25,
   "id": "dd81b0e1",
   "metadata": {},
   "outputs": [
    {
     "data": {
      "text/plain": [
       "<AxesSubplot:xlabel='release_year'>"
      ]
     },
     "execution_count": 25,
     "metadata": {},
     "output_type": "execute_result"
    },
    {
     "data": {
      "image/png": "[encoded data removed]",
      "text/plain": [
       "<Figure size 432x288 with 1 Axes>"
      ]
     },
     "metadata": {
      "needs_background": "light"
     },
     "output_type": "display_data"
    }
   ],
   "source": [
    "##Import packages\n",
    "\n",
    "import seaborn as sns\n",
    "\n",
    "sns.boxplot(x=\"release_year\",data=netflix)"
   ]
  },
  {
   "cell_type": "markdown",
   "id": "385aef72",
   "metadata": {},
   "source": [
    "According to the graph, release year column has few outliers. I decided the outliers to be outside of minimum value."
   ]
  },
  {
   "cell_type": "code",
   "execution_count": 29,
   "id": "f2ccffa1",
   "metadata": {},
   "outputs": [],
   "source": [
    "import numpy as np\n",
    "\n",
    "qh25,qh75=np.percentile(netflix[\"release_year\"],[25,75])\n",
    "\n",
    "iqr=qh75-qh25\n",
    "minh=qh25-1.5*iqr\n",
    "\n",
    "#choose data inside IQR\n",
    "\n",
    "netflix=netflix[(netflix[\"release_year\"]>minh)]"
   ]
  },
  {
   "cell_type": "code",
   "execution_count": 30,
   "id": "80845ced",
   "metadata": {},
   "outputs": [
    {
     "name": "stdout",
     "output_type": "stream",
     "text": [
      "new shape (6603, 11)\n"
     ]
    }
   ],
   "source": [
    "print(\"new shape\",netflix.shape)"
   ]
  },
  {
   "cell_type": "code",
   "execution_count": 31,
   "id": "a86f19ea",
   "metadata": {},
   "outputs": [
    {
     "data": {
      "text/plain": [
       "<AxesSubplot:xlabel='release_year'>"
      ]
     },
     "execution_count": 31,
     "metadata": {},
     "output_type": "execute_result"
    },
    {
     "data": {
      "image/png": "[encoded data removed]",
      "text/plain": [
       "<Figure size 432x288 with 1 Axes>"
      ]
     },
     "metadata": {
      "needs_background": "light"
     },
     "output_type": "display_data"
    }
   ],
   "source": [
    "#Check whether the outliers are removed\n",
    "\n",
    "sns.boxplot(x=\"release_year\",data=netflix)"
   ]
  },
  {
   "cell_type": "markdown",
   "id": "c1165870",
   "metadata": {},
   "source": [
    "Now the dataset is ready for analysis."
   ]
  },
  {
   "cell_type": "code",
   "execution_count": 32,
   "id": "3bf4969d",
   "metadata": {},
   "outputs": [
    {
     "data": {
      "text/plain": [
       "show_id                 object\n",
       "type                    object\n",
       "title                   object\n",
       "director                object\n",
       "cast                    object\n",
       "country                 object\n",
       "date_added      datetime64[ns]\n",
       "release_year             int64\n",
       "duration                 int64\n",
       "description             object\n",
       "genre                   object\n",
       "dtype: object"
      ]
     },
     "execution_count": 32,
     "metadata": {},
     "output_type": "execute_result"
    }
   ],
   "source": [
    "netflix.dtypes"
   ]
  },
  {
   "cell_type": "markdown",
   "id": "855a6a30",
   "metadata": {},
   "source": [
    "# Analysis of data"
   ]
  },
  {
   "cell_type": "markdown",
   "id": "82b97dfa",
   "metadata": {},
   "source": [
    "# Content added across all years"
   ]
  },
  {
   "cell_type": "code",
   "execution_count": 34,
   "id": "d1ab3610",
   "metadata": {},
   "outputs": [
    {
     "data": {
      "text/plain": [
       "2010     172\n",
       "2011     166\n",
       "2012     218\n",
       "2013     266\n",
       "2014     334\n",
       "2015     539\n",
       "2016     881\n",
       "2017    1012\n",
       "2018    1120\n",
       "2019     996\n",
       "2020     868\n",
       "2021      31\n",
       "Name: release_year, dtype: int64"
      ]
     },
     "execution_count": 34,
     "metadata": {},
     "output_type": "execute_result"
    }
   ],
   "source": [
    "release_year_counts=netflix[\"release_year\"].value_counts().sort_index()\n",
    "release_year_counts\n"
   ]
  },
  {
   "cell_type": "code",
   "execution_count": 38,
   "id": "08dce27e",
   "metadata": {},
   "outputs": [
    {
     "data": {
      "image/png": "[encoded data removed]",
      "text/plain": [
       "<Figure size 432x288 with 1 Axes>"
      ]
     },
     "metadata": {
      "needs_background": "light"
     },
     "output_type": "display_data"
    }
   ],
   "source": [
    "#Total Content added across all years\n",
    "import matplotlib.pyplot as plt\n",
    "plt.bar(x=release_year_counts.index,height=release_year_counts.values)\n",
    "plt.title(\"Number of shows released each year\")\n",
    "plt.xlabel(\"Release year\")\n",
    "plt.ylabel(\"Number of shows\")\n",
    "plt.show()"
   ]
  },
  {
   "cell_type": "markdown",
   "id": "253773c4",
   "metadata": {},
   "source": [
    "By looking at this graph we can conclude that the highest number of content was\n",
    "released in 2018.\n"
   ]
  },
  {
   "cell_type": "code",
   "execution_count": 36,
   "id": "e1c33533",
   "metadata": {},
   "outputs": [
    {
     "data": {
      "image/png": "[encoded data removed]",
      "text/plain": [
       "<Figure size 864x432 with 1 Axes>"
      ]
     },
     "metadata": {
      "needs_background": "light"
     },
     "output_type": "display_data"
    }
   ],
   "source": [
    "#Amount of Movies and TV shows added throughout the data collection period\n",
    "#Filter for movies and TV shows\n",
    "\n",
    "movies_df=netflix[netflix[\"type\"]==\"Movie\"]\n",
    "tv_shows_df=netflix[netflix[\"type\"]==\"TV Show\"]\n",
    "\n",
    "#count of number of movies added each year\n",
    "\n",
    "movies_count= movies_df[\"release_year\"].value_counts().sort_index()\n",
    "\n",
    "#count of number of tv shows added each year\n",
    "\n",
    "tv_shows_count= tv_shows_df[\"release_year\"].value_counts().sort_index()\n",
    "\n",
    "#Plot movies count\n",
    "plt.figure(figsize=(12,6))\n",
    "plt.plot(movies_count.index,movies_count.values,label=\"Movies\",color=\"blue\")\n",
    "\n",
    "#plot tv show count\n",
    "plt.plot(tv_shows_count.index,tv_shows_count.values, label=\"TV shows\",color=\"green\")\n",
    "\n",
    "#plot of total content\n",
    "plt.plot(release_year_counts.index, release_year_counts.values, label=\"Total\", color=\"orange\")\n",
    "plt.title(\"Total content added up to 2021\")\n",
    "plt.xlabel(\"Year\")\n",
    "plt.ylabel(\"Count\")\n",
    "plt.legend()\n",
    "plt.show() "
   ]
  },
  {
   "cell_type": "markdown",
   "id": "42adc250",
   "metadata": {},
   "source": [
    "Since 2015 the amount of content added has increased significantly. The growth in\n",
    "movies is much bigger than on TV shows."
   ]
  },
  {
   "cell_type": "code",
   "execution_count": 40,
   "id": "5b7419bc",
   "metadata": {},
   "outputs": [
    {
     "data": {
      "image/png": "[encoded data removed]",
      "text/plain": [
       "<Figure size 432x288 with 1 Axes>"
      ]
     },
     "metadata": {},
     "output_type": "display_data"
    }
   ],
   "source": [
    "#Distrubiution of movies and TV shows\n",
    "type_count= netflix[\"type\"].value_counts()\n",
    "\n",
    "#creating autocpt arguments to display count\n",
    "def countval (i):\n",
    " a= int(i/100 *sum(type_count))\n",
    " return \"{:d}\".format(a)\n",
    "\n",
    "plt.pie(x=type_count.values,labels=type_count.index,autopct=countval)\n",
    "plt.title(\"Distribution of movies and TV shows\")\n",
    "plt.axis(\"equal\")\n",
    "plt.show()\n"
   ]
  },
  {
   "cell_type": "markdown",
   "id": "8a528cb7",
   "metadata": {},
   "source": [
    "There's more than 4000 movies and 2200 TV Shows, movies being the majority.\n"
   ]
  },
  {
   "cell_type": "code",
   "execution_count": 41,
   "id": "81850012",
   "metadata": {},
   "outputs": [
    {
     "data": {
      "text/plain": [
       "United States     2342\n",
       "India              714\n",
       "United Kingdom     506\n",
       "unknown            477\n",
       "Canada             244\n",
       "Japan              198\n",
       "South Korea        189\n",
       "France             178\n",
       "Spain              166\n",
       "Mexico             114\n",
       "Turkey              96\n",
       "Australia           96\n",
       "China               83\n",
       "Brazil              78\n",
       "Germany             77\n",
       "Egypt               74\n",
       "Nigeria             70\n",
       "Philippines         69\n",
       "Taiwan              67\n",
       "Indonesia           67\n",
       "Name: country, dtype: int64"
      ]
     },
     "execution_count": 41,
     "metadata": {},
     "output_type": "execute_result"
    }
   ],
   "source": [
    "#Which countries produces the most number of content\n",
    "\n",
    "#count of content producted by each country\n",
    "content_count=netflix[\"country\"].value_counts().head(20) #Gives the top 20 item\n",
    "content_count\n"
   ]
  },
  {
   "cell_type": "code",
   "execution_count": 42,
   "id": "174d6e1c",
   "metadata": {},
   "outputs": [
    {
     "data": {
      "image/png": "[encoded data removed]",
      "text/plain": [
       "<Figure size 864x432 with 1 Axes>"
      ]
     },
     "metadata": {
      "needs_background": "light"
     },
     "output_type": "display_data"
    }
   ],
   "source": [
    "plt.figure(figsize=(12,6))\n",
    "\n",
    "bars=plt.bar(x=content_count.index, height=content_count.values)\n",
    "plt.xticks(rotation=45) #rotating the x axis labels\n",
    "plt.xlabel(\"Country\")\n",
    "plt.ylabel(\"Count\")\n",
    "plt.title(\"Top 20 contributors on netflix\")\n",
    "\n",
    "plt.bar_label(bars) #showing the bar labels\n",
    "\n",
    "plt.show()"
   ]
  },
  {
   "cell_type": "markdown",
   "id": "aca548fc",
   "metadata": {},
   "source": [
    "United States got the highest number of content followed by India and UK."
   ]
  },
  {
   "cell_type": "code",
   "execution_count": 43,
   "id": "61689c91",
   "metadata": {},
   "outputs": [
    {
     "data": {
      "text/html": [
       "<div>\n",
       "<style scoped>\n",
       "    .dataframe tbody tr th:only-of-type {\n",
       "        vertical-align: middle;\n",
       "    }\n",
       "\n",
       "    .dataframe tbody tr th {\n",
       "        vertical-align: top;\n",
       "    }\n",
       "\n",
       "    .dataframe thead th {\n",
       "        text-align: right;\n",
       "    }\n",
       "</style>\n",
       "<table border=\"1\" class=\"dataframe\">\n",
       "  <thead>\n",
       "    <tr style=\"text-align: right;\">\n",
       "      <th></th>\n",
       "      <th>show_id</th>\n",
       "      <th>type</th>\n",
       "      <th>title</th>\n",
       "      <th>director</th>\n",
       "      <th>cast</th>\n",
       "      <th>country</th>\n",
       "      <th>date_added</th>\n",
       "      <th>release_year</th>\n",
       "      <th>duration</th>\n",
       "      <th>description</th>\n",
       "      <th>genre</th>\n",
       "    </tr>\n",
       "  </thead>\n",
       "  <tbody>\n",
       "    <tr>\n",
       "      <th>0</th>\n",
       "      <td>s1</td>\n",
       "      <td>TV Show</td>\n",
       "      <td>3%</td>\n",
       "      <td>unknown</td>\n",
       "      <td>João Miguel, Bianca Comparato, Michel Gomes, R...</td>\n",
       "      <td>Brazil</td>\n",
       "      <td>2020-08-14</td>\n",
       "      <td>2020</td>\n",
       "      <td>4</td>\n",
       "      <td>In a future where the elite inhabit an island ...</td>\n",
       "      <td>International TV</td>\n",
       "    </tr>\n",
       "    <tr>\n",
       "      <th>1</th>\n",
       "      <td>s2</td>\n",
       "      <td>Movie</td>\n",
       "      <td>7:19</td>\n",
       "      <td>Jorge Michel Grau</td>\n",
       "      <td>Demián Bichir, Héctor Bonilla, Oscar Serrano, ...</td>\n",
       "      <td>Mexico</td>\n",
       "      <td>2016-12-23</td>\n",
       "      <td>2016</td>\n",
       "      <td>93</td>\n",
       "      <td>After a devastating earthquake hits Mexico Cit...</td>\n",
       "      <td>Dramas</td>\n",
       "    </tr>\n",
       "    <tr>\n",
       "      <th>2</th>\n",
       "      <td>s3</td>\n",
       "      <td>Movie</td>\n",
       "      <td>23:59</td>\n",
       "      <td>Gilbert Chan</td>\n",
       "      <td>Tedd Chan, Stella Chung, Henley Hii, Lawrence ...</td>\n",
       "      <td>Singapore</td>\n",
       "      <td>2018-12-20</td>\n",
       "      <td>2011</td>\n",
       "      <td>78</td>\n",
       "      <td>When an army recruit is found dead, his fellow...</td>\n",
       "      <td>Horror Movies</td>\n",
       "    </tr>\n",
       "    <tr>\n",
       "      <th>5</th>\n",
       "      <td>s6</td>\n",
       "      <td>TV Show</td>\n",
       "      <td>46</td>\n",
       "      <td>Serdar Akar</td>\n",
       "      <td>Erdal Beşikçioğlu, Yasemin Allen, Melis Birkan...</td>\n",
       "      <td>Turkey</td>\n",
       "      <td>2017-07-01</td>\n",
       "      <td>2016</td>\n",
       "      <td>1</td>\n",
       "      <td>A genetics professor experiments with a treatm...</td>\n",
       "      <td>International TV</td>\n",
       "    </tr>\n",
       "    <tr>\n",
       "      <th>6</th>\n",
       "      <td>s7</td>\n",
       "      <td>Movie</td>\n",
       "      <td>122</td>\n",
       "      <td>Yasir Al Yasiri</td>\n",
       "      <td>Amina Khalil, Ahmed Dawood, Tarek Lotfy, Ahmed...</td>\n",
       "      <td>Egypt</td>\n",
       "      <td>2020-06-01</td>\n",
       "      <td>2019</td>\n",
       "      <td>95</td>\n",
       "      <td>After an awful accident, a couple admitted to ...</td>\n",
       "      <td>Horror Movies</td>\n",
       "    </tr>\n",
       "  </tbody>\n",
       "</table>\n",
       "</div>"
      ],
      "text/plain": [
       "  show_id     type  title           director  \\\n",
       "0      s1  TV Show     3%            unknown   \n",
       "1      s2    Movie   7:19  Jorge Michel Grau   \n",
       "2      s3    Movie  23:59       Gilbert Chan   \n",
       "5      s6  TV Show     46        Serdar Akar   \n",
       "6      s7    Movie    122    Yasir Al Yasiri   \n",
       "\n",
       "                                                cast    country date_added  \\\n",
       "0  João Miguel, Bianca Comparato, Michel Gomes, R...     Brazil 2020-08-14   \n",
       "1  Demián Bichir, Héctor Bonilla, Oscar Serrano, ...     Mexico 2016-12-23   \n",
       "2  Tedd Chan, Stella Chung, Henley Hii, Lawrence ...  Singapore 2018-12-20   \n",
       "5  Erdal Beşikçioğlu, Yasemin Allen, Melis Birkan...     Turkey 2017-07-01   \n",
       "6  Amina Khalil, Ahmed Dawood, Tarek Lotfy, Ahmed...      Egypt 2020-06-01   \n",
       "\n",
       "   release_year  duration                                        description  \\\n",
       "0          2020         4  In a future where the elite inhabit an island ...   \n",
       "1          2016        93  After a devastating earthquake hits Mexico Cit...   \n",
       "2          2011        78  When an army recruit is found dead, his fellow...   \n",
       "5          2016         1  A genetics professor experiments with a treatm...   \n",
       "6          2019        95  After an awful accident, a couple admitted to ...   \n",
       "\n",
       "              genre  \n",
       "0  International TV  \n",
       "1            Dramas  \n",
       "2     Horror Movies  \n",
       "5  International TV  \n",
       "6     Horror Movies  "
      ]
     },
     "execution_count": 43,
     "metadata": {},
     "output_type": "execute_result"
    }
   ],
   "source": [
    "netflix.head()\n"
   ]
  },
  {
   "cell_type": "code",
   "execution_count": 44,
   "id": "a735f67b",
   "metadata": {},
   "outputs": [
    {
     "data": {
      "text/plain": [
       "Dramas                  1158\n",
       "Comedies                 838\n",
       "Documentaries            719\n",
       "International TV         651\n",
       "Action                   489\n",
       "Children                 407\n",
       "Crime TV                 362\n",
       "Stand-Up                 325\n",
       "Kids                     324\n",
       "Horror Movies            212\n",
       "British TV               212\n",
       "Docuseries               184\n",
       "Anime Series             123\n",
       "TV Comedies              100\n",
       "International Movies     100\n",
       "Name: genre, dtype: int64"
      ]
     },
     "execution_count": 44,
     "metadata": {},
     "output_type": "execute_result"
    }
   ],
   "source": [
    "#Let's look at top genres on netflix\n",
    "genre_count=netflix[\"genre\"].value_counts().head(15)\n",
    "genre_count"
   ]
  },
  {
   "cell_type": "code",
   "execution_count": 45,
   "id": "e6d688f4",
   "metadata": {},
   "outputs": [
    {
     "data": {
      "image/png": "[encoded data removed]",
      "text/plain": [
       "<Figure size 864x432 with 1 Axes>"
      ]
     },
     "metadata": {
      "needs_background": "light"
     },
     "output_type": "display_data"
    }
   ],
   "source": [
    "#Top 15 genres on netflix\n",
    "plt.figure(figsize=(12,6))\n",
    "plt.xticks(rotation=45)\n",
    "plt.title(\"Top 15 genres on netflix\")\n",
    "plt.xlabel(\"Genre\")\n",
    "plt.ylabel(\"Count\")\n",
    "plt.bar(x=genre_count.index, height=genre_count.values,color=\"orange\")\n",
    "plt.show()\n"
   ]
  },
  {
   "cell_type": "markdown",
   "id": "e9152e25",
   "metadata": {},
   "source": [
    "So the most popular genre is Dramas followed by comedies and documentries.\n"
   ]
  },
  {
   "cell_type": "code",
   "execution_count": 47,
   "id": "2a460301",
   "metadata": {},
   "outputs": [
    {
     "data": {
      "text/plain": [
       "unknown              688\n",
       " Takahiro Sakurai     27\n",
       " Andrea Libman        24\n",
       " Yuki Kaji            23\n",
       " Vincent Tong         22\n",
       "                    ... \n",
       " Nadim Abou Samra      1\n",
       " Laeticia Semaan       1\n",
       " Jenny Gebara          1\n",
       " Samira Sarkis         1\n",
       " Rachel Khoo           1\n",
       "Length: 30777, dtype: int64"
      ]
     },
     "execution_count": 47,
     "metadata": {},
     "output_type": "execute_result"
    }
   ],
   "source": [
    "# Analysis of top actors\n",
    "#split the actors in each row\n",
    "actor_counts=netflix[\"cast\"].str.split(\",\", expand=True).stack().value_counts()\n",
    "actor_counts\n"
   ]
  },
  {
   "cell_type": "code",
   "execution_count": 48,
   "id": "66146813",
   "metadata": {},
   "outputs": [
    {
     "data": {
      "text/plain": [
       "unknown                688\n",
       " Takahiro Sakurai       27\n",
       " Andrea Libman          24\n",
       " Yuki Kaji              23\n",
       " Vincent Tong           22\n",
       " Ai Kayano              18\n",
       " Anupam Kher            18\n",
       " Kana Hanazawa          17\n",
       " Junichi Suwabe         17\n",
       " Tomokazu Sugita        16\n",
       " Erin Fitzgerald        16\n",
       " Daisuke Ono            16\n",
       " Ashleigh Ball          16\n",
       " Alessandro Juliani     15\n",
       " Pankaj Tripathi        15\n",
       "dtype: int64"
      ]
     },
     "execution_count": 48,
     "metadata": {},
     "output_type": "execute_result"
    }
   ],
   "source": [
    "#Top 15 actors\n",
    "Top_actors=actor_counts.head(15)\n",
    "Top_actors "
   ]
  },
  {
   "cell_type": "code",
   "execution_count": 49,
   "id": "33cfb467",
   "metadata": {},
   "outputs": [
    {
     "data": {
      "text/plain": [
       " Takahiro Sakurai      27\n",
       " Andrea Libman         24\n",
       " Yuki Kaji             23\n",
       " Vincent Tong          22\n",
       " Ai Kayano             18\n",
       " Anupam Kher           18\n",
       " Kana Hanazawa         17\n",
       " Junichi Suwabe        17\n",
       " Tomokazu Sugita       16\n",
       " Erin Fitzgerald       16\n",
       " Daisuke Ono           16\n",
       " Ashleigh Ball         16\n",
       " Alessandro Juliani    15\n",
       " Pankaj Tripathi       15\n",
       "dtype: int64"
      ]
     },
     "execution_count": 49,
     "metadata": {},
     "output_type": "execute_result"
    }
   ],
   "source": [
    "#removing unknowns from the data set\n",
    "Top=Top_actors.drop([\"unknown\"])\n",
    "Top\n"
   ]
  },
  {
   "cell_type": "code",
   "execution_count": 50,
   "id": "1055abe8",
   "metadata": {},
   "outputs": [
    {
     "data": {
      "image/png": "[encoded data removed]",
      "text/plain": [
       "<Figure size 864x432 with 1 Axes>"
      ]
     },
     "metadata": {
      "needs_background": "light"
     },
     "output_type": "display_data"
    }
   ],
   "source": [
    "plt.figure(figsize=(12,6))\n",
    "Top.plot(kind=\"bar\")\n",
    "plt.title(\"Top 15 actors on Netflix\")\n",
    "plt.xlabel(\"Actor name\")\n",
    "plt.ylabel(\"Count\")\n",
    "plt.show()\n"
   ]
  },
  {
   "cell_type": "markdown",
   "id": "e64f781f",
   "metadata": {},
   "source": [
    "Based on the number of titles, top actor on netflix is Anupham Kher.\n"
   ]
  },
  {
   "cell_type": "code",
   "execution_count": 52,
   "id": "671be2ac",
   "metadata": {},
   "outputs": [
    {
     "name": "stdout",
     "output_type": "stream",
     "text": [
      "<class 'pandas.core.frame.DataFrame'>\n",
      "Int64Index: 4374 entries, 1 to 7786\n",
      "Data columns (total 11 columns):\n",
      " #   Column        Non-Null Count  Dtype         \n",
      "---  ------        --------------  -----         \n",
      " 0   show_id       4374 non-null   object        \n",
      " 1   type          4374 non-null   object        \n",
      " 2   title         4374 non-null   object        \n",
      " 3   director      4374 non-null   object        \n",
      " 4   cast          4374 non-null   object        \n",
      " 5   country       4374 non-null   object        \n",
      " 6   date_added    4374 non-null   datetime64[ns]\n",
      " 7   release_year  4374 non-null   int64         \n",
      " 8   duration      4374 non-null   int64         \n",
      " 9   description   4374 non-null   object        \n",
      " 10  genre         4374 non-null   object        \n",
      "dtypes: datetime64[ns](1), int64(2), object(8)\n",
      "memory usage: 410.1+ KB\n"
     ]
    }
   ],
   "source": [
    "#Distribution of movie durations\n",
    "\n",
    "#Filtering only movies\n",
    "movies=netflix[netflix[\"type\"]==\"Movie\"]\n",
    "movies.info()\n"
   ]
  },
  {
   "cell_type": "code",
   "execution_count": 53,
   "id": "cf5e3709",
   "metadata": {},
   "outputs": [
    {
     "data": {
      "image/png": "[encoded data removed]",
      "text/plain": [
       "<Figure size 864x432 with 1 Axes>"
      ]
     },
     "metadata": {
      "needs_background": "light"
     },
     "output_type": "display_data"
    }
   ],
   "source": [
    "#Distribution of movie durations\n",
    "import seaborn as sns\n",
    "plt.figure(figsize=(12,6))\n",
    "sns.histplot(movies[\"duration\"],bins=30, kde=True, color=\"green\")\n",
    "plt.title(\"Distribution of Movie durations\")\n",
    "plt.xlabel(\"Duration(Min)\")\n",
    "plt.ylabel(\"Count\")\n",
    "plt.show()"
   ]
  },
  {
   "cell_type": "markdown",
   "id": "7df67081",
   "metadata": {},
   "source": [
    "Among the analysed movies, 90 minutes is the most frequent duration followed by 100\n",
    "min"
   ]
  },
  {
   "cell_type": "markdown",
   "id": "3c38bc3c",
   "metadata": {},
   "source": [
    "# Insights and summary\n"
   ]
  },
  {
   "cell_type": "markdown",
   "id": "be93abaa",
   "metadata": {},
   "source": [
    "**Content Distribution & Type Trend Over Time:** A significant increase in content releases\n",
    "from 2015, peaking in 2018, followed by a slower growth rate. Content Library: Netflix’s\n",
    "library predominantly consists of movies (approximately 4300) compared to TV shows\n",
    "(around 2200), with a higher growth rate for movies since 2015.\n"
   ]
  },
  {
   "cell_type": "markdown",
   "id": "0113c455",
   "metadata": {},
   "source": [
    "**Geographical Insights Content Production:** The United States is the leading producer of\n",
    "content, with India and the United Kingdom following."
   ]
  },
  {
   "cell_type": "markdown",
   "id": "58e102b6",
   "metadata": {},
   "source": [
    "**Popular Genres Top Genres:** The most common genres are Dramas, Comedies, and\n",
    "Documentaries.\n",
    "\n",
    "**Featured Actors Most Featured Actor:** Anupam Kher holds the record for the most titles,\n",
    "with Takahiro Sakurai as the runner-up.\n",
    "\n",
    "**Average Duration Movie Duration:** The average duration for movies on Netflix is 100\n",
    "minutes."
   ]
  },
  {
   "cell_type": "markdown",
   "id": "361b75f1",
   "metadata": {},
   "source": [
    "# Additional Conclusions:\n"
   ]
  },
  {
   "cell_type": "markdown",
   "id": "46469987",
   "metadata": {},
   "source": [
    "The peak in 2018 suggests a strategic push by Netflix to expand its content offerings,\n",
    "possibly in response to increasing competition in the streaming market.\n",
    "\n",
    "The larger number of movies might indicate a focus on providing a wide variety of\n",
    "single-viewing experiences, which could align with user preferences for shorter, more\n",
    "diverse content consumption.\n",
    "\n",
    "The dominance of the US in content production reflects the global influence of American\n",
    "media, while the significant contribution from India highlights the popularity and growth\n",
    "of Bollywood content on international platforms.\n",
    "\n",
    "The prevalence of Dramas and Comedies suggests these genres have universal appeal,\n",
    "potentially driving higher viewership and subscriber retention.\n",
    "\n",
    "The prominence of actors like Anupam Kher and Takahiro Sakurai indicates a diverse\n",
    "range of content catering to both Indian and Japanese audiences, which aligns with\n",
    "Netflix’s strategy of localization and global reach.\n",
    "\n",
    "The average movie duration of 100 minutes aligns with the traditional film industry\n",
    "standard, indicating Netflix’s alignment with viewer expectations for movie length."
   ]
  },
  {
   "cell_type": "code",
   "execution_count": null,
   "id": "cfdae3d5",
   "metadata": {},
   "outputs": [],
   "source": []
  }
 ],
 "metadata": {
  "kernelspec": {
   "display_name": "Python 3 (ipykernel)",
   "language": "python",
   "name": "python3"
  },
  "language_info": {
   "codemirror_mode": {
    "name": "ipython",
    "version": 3
   },
   "file_extension": ".py",
   "mimetype": "text/x-python",
   "name": "python",
   "nbconvert_exporter": "python",
   "pygments_lexer": "ipython3",
   "version": "3.9.12"
  }
 },
 "nbformat": 4,
 "nbformat_minor": 5
}
